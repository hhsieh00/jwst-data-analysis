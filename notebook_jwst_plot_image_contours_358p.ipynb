{
 "cells": [
  {
   "cell_type": "code",
   "execution_count": null,
   "id": "ef483ae9",
   "metadata": {},
   "outputs": [],
   "source": [
    "%matplotlib inline\n",
    "import os, sys\n",
    "import os.path\n",
    "import numpy as np\n",
    "from astropy.io import fits\n",
    "import matplotlib.pyplot as plt\n",
    "import matplotlib.figure as fig\n",
    "from matplotlib.ticker import NullFormatter, MaxNLocator, ScalarFormatter, MultipleLocator, FormatStrFormatter\n",
    "nullfmt = NullFormatter()\n"
   ]
  },
  {
   "cell_type": "code",
   "execution_count": null,
   "id": "dd407a5a",
   "metadata": {},
   "outputs": [],
   "source": [
    "def plot_contour_log_358p_jwst(base_path,f200w_2arcsec_image_filename,f277w_2arcsec_image_filename,output_plot_filename):\n",
    "    print('Plotting figure: {:s}'.format(base_path+output_plot_filename))\n",
    "    fig = plt.figure(figsize=(15,15))\n",
    "    rect_plot1 = [0.10,0.10,0.40,0.40]\n",
    "    rect_plot2 = [0.52,0.10,0.40,0.40]\n",
    "    axPlot1 = plt.axes(rect_plot1)\n",
    "    axPlot2 = plt.axes(rect_plot2)\n",
    "    with fits.open(base_path+f200w_2arcsec_image_filename) as hdulist:\n",
    "        axPlot1.contour(hdulist[0].data,levels=np.logspace(-0.78,6.7,44),colors='black',alpha=1)\n",
    "    with fits.open(base_path+f277w_2arcsec_image_filename) as hdulist:\n",
    "        axPlot2.contour(hdulist[0].data,levels=np.logspace(-0.90,2.2,25),colors='black',alpha=1)\n",
    "\n",
    "    axPlot1.plot([44,60],[4,4],color='#000000',lw=3,ls='-')\n",
    "    axPlot2.plot([22,30],[2,2],color='#000000',lw=3,ls='-')\n",
    "        \n",
    "    axPlot1.text(0.02,0.92,'(a)',fontsize=30,transform=axPlot1.transAxes)\n",
    "    axPlot2.text(0.02,0.92,'(b)',fontsize=30,transform=axPlot2.transAxes)\n",
    "    axPlot1.text(0.72,0.92,'F200W',fontsize=30,transform=axPlot1.transAxes)\n",
    "    axPlot2.text(0.72,0.92,'F277W',fontsize=30,transform=axPlot2.transAxes)\n",
    "    axPlot1.text(0.765,0.08,'0.5\"',fontsize=20,transform=axPlot1.transAxes)\n",
    "    axPlot2.text(0.765,0.08,'0.5\"',fontsize=20,transform=axPlot2.transAxes)\n",
    "    \n",
    "    axPlot1.xaxis.set_major_formatter(nullfmt)  # turn off labels\n",
    "    axPlot1.yaxis.set_major_formatter(nullfmt)  # turn off labels\n",
    "    axPlot2.xaxis.set_major_formatter(nullfmt)  # turn off labels\n",
    "    axPlot2.yaxis.set_major_formatter(nullfmt)  # turn off labels\n",
    "    \n",
    "    xyticks1_major = np.arange(-64,128,16)\n",
    "    xyticks1_minor = np.arange(-64,128,3.2)\n",
    "    xyticks2_major = np.arange(-64,128,8)\n",
    "    xyticks2_minor = np.arange(-64,128,1.6)\n",
    "    axPlot1.tick_params(which='both',direction='in')\n",
    "    axPlot2.tick_params(which='both',direction='in')\n",
    "    axPlot1.set_xticks(xyticks1_major)\n",
    "    axPlot1.set_yticks(xyticks1_major)\n",
    "    axPlot2.set_xticks(xyticks2_major)\n",
    "    axPlot2.set_yticks(xyticks2_major)\n",
    "    axPlot1.set_xticks(xyticks1_minor,minor=True)\n",
    "    axPlot1.set_yticks(xyticks1_minor,minor=True)\n",
    "    axPlot2.set_xticks(xyticks2_minor,minor=True)\n",
    "    axPlot2.set_yticks(xyticks2_minor,minor=True)\n",
    "    axPlot1.set_xlim([0,64])\n",
    "    axPlot1.set_ylim([0,64])\n",
    "    axPlot2.set_xlim([0,32])\n",
    "    axPlot2.set_ylim([0,32])\n",
    "    \n",
    "    axPlot1.tick_params(axis='both',which='both',left=True,right=True,top=True,bottom=True)\n",
    "    axPlot2.tick_params(axis='both',which='both',left=True,right=True,top=True,bottom=True)\n",
    "\n",
    "    plt.draw()\n",
    "    plt.savefig(base_path+output_plot_filename,format='pdf',transparent=True,bbox_inches='tight')\n",
    "    plt.clf()\n",
    "    plt.cla()\n",
    "    plt.close()\n",
    "    \n",
    "    print('>>> Plotting complete')\n",
    "   \n",
    "    return None\n"
   ]
  },
  {
   "cell_type": "code",
   "execution_count": null,
   "id": "c5ba6972",
   "metadata": {},
   "outputs": [],
   "source": [
    "base_path                    = '/Volumes/Fantom12a/BackupData/JWST/Cycle2/NIRCam/background_subtraction_by_column/contour_plots/'\n",
    "f200w_2arcsec_image_filename = 'n20231122.358p.median.F200W.rowbgsub.full.crop.rot.ctr.2as.s.fits'\n",
    "f277w_2arcsec_image_filename = 'n20231122.358p.median.F277W.rowbgsub.full.crop.rot.ctr.2as.s.fits'\n",
    "output_plot_filename         = 'contours_log_n20231122.median.358p.nircam.pdf'\n",
    "\n",
    "plot_contour_log_358p_jwst(base_path,f200w_2arcsec_image_filename,f277w_2arcsec_image_filename,output_plot_filename)\n"
   ]
  }
 ],
 "metadata": {
  "kernelspec": {
   "display_name": "Python 3 (ipykernel)",
   "language": "python",
   "name": "python3"
  },
  "language_info": {
   "codemirror_mode": {
    "name": "ipython",
    "version": 3
   },
   "file_extension": ".py",
   "mimetype": "text/x-python",
   "name": "python",
   "nbconvert_exporter": "python",
   "pygments_lexer": "ipython3",
   "version": "3.10.4"
  }
 },
 "nbformat": 4,
 "nbformat_minor": 5
}
